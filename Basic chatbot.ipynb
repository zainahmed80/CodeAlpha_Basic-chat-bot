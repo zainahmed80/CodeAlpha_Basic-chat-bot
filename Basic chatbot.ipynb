{
  "nbformat": 4,
  "nbformat_minor": 0,
  "metadata": {
    "colab": {
      "provenance": []
    },
    "kernelspec": {
      "name": "python3",
      "display_name": "Python 3"
    },
    "language_info": {
      "name": "python"
    }
  },
  "cells": [
    {
      "cell_type": "code",
      "source": [
        "def chatbot():\n",
        "    print(\"Chatbot: Hello! Type 'bye' to exit.\")\n",
        "    while True:\n",
        "        user_input = input(\"You: \").lower()\n",
        "        if user_input == \"hello\":\n",
        "            print(\"Chatbot: Hi there!\")\n",
        "        elif user_input == \"how are you\":\n",
        "            print(\"Chatbot: I'm fine, thanks!\")\n",
        "        elif user_input == \"bye\":\n",
        "            print(\"Chatbot: Goodbye! 👋\")\n",
        "            break\n",
        "        else:\n",
        "            print(\"Chatbot: Sorry, I don't understand.\")\n",
        "\n",
        "chatbot()\n"
      ],
      "metadata": {
        "colab": {
          "base_uri": "https://localhost:8080/"
        },
        "id": "z8ukYw4vmTSc",
        "outputId": "583a369b-5eb0-4e80-e339-5fc242635a9c"
      },
      "execution_count": null,
      "outputs": [
        {
          "output_type": "stream",
          "name": "stdout",
          "text": [
            "Chatbot: Hello! Type 'bye' to exit.\n",
            "You: Hi there!\n",
            "Chatbot: Sorry, I don't understand.\n"
          ]
        }
      ]
    }
  ]
}